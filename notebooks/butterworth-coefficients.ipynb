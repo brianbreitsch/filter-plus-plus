{
 "cells": [
  {
   "cell_type": "code",
   "execution_count": 5,
   "metadata": {
    "collapsed": true
   },
   "outputs": [],
   "source": [
    "import mpld3\n",
    "import matplotlib.pyplot as plt\n",
    "%matplotlib inline\n",
    "mpld3.enable_notebook()"
   ]
  },
  {
   "cell_type": "markdown",
   "metadata": {},
   "source": [
    "In order to create Butterworth filter coefficients, we need to find the complex poles of the transfer function and multiply complex conjugates, then take the bilinear transform to get Z-domain polynomial.\n",
    "\n",
    "[This page]:https://ccrma.stanford.edu/~jos/fp/Butterworth_Lowpass_Poles_Zeros.html is a good reference to Butterworth filter transfer function.\n",
    "\n",
    "The poles of a $N^{th}$-order Butterworth filter lie at $e^{j\\theta_k}$ for $\\theta_k \\triangleq \\frac{(2k+1)\\pi}{2N}$ for $k = 0, ..., N - 1$."
   ]
  },
  {
   "cell_type": "code",
   "execution_count": 6,
   "metadata": {
    "collapsed": true
   },
   "outputs": [],
   "source": [
    "import numpy\n",
    "from numpy import asarray, zeros, ones, pi, arange, exp, real, imag"
   ]
  },
  {
   "cell_type": "code",
   "execution_count": 13,
   "metadata": {
    "collapsed": false
   },
   "outputs": [],
   "source": [
    "N = 10  # filter order\n",
    "k = arange(N)  # index\n",
    "theta = pi / 2 + (2 * k + 1) * pi / (2 * N)  # pole angles\n",
    "pole = exp(-1j * theta)  # complex poles"
   ]
  },
  {
   "cell_type": "code",
   "execution_count": 21,
   "metadata": {
    "collapsed": false
   },
   "outputs": [
    {
     "data": {
      "image/png": "[encoded data removed]",
      "text/html": [
       "\n",
       "\n",
       "<style>\n",
       "\n",
       "</style>\n",
       "\n",
       "<div id=\"fig_el20049139642977269464495427297\"></div>\n",
       "<script>\n",
       "function mpld3_load_lib(url, callback){\n",
       "  var s = document.createElement('script');\n",
       "  s.src = url;\n",
       "  s.async = true;\n",
       "  s.onreadystatechange = s.onload = callback;\n",
       "  s.onerror = function(){console.warn(\"failed to load library \" + url);};\n",
       "  document.getElementsByTagName(\"head\")[0].appendChild(s);\n",
       "}\n",
       "\n",
       "if(typeof(mpld3) !== \"undefined\" && mpld3._mpld3IsLoaded){\n",
       "   // already loaded: just create the figure\n",
       "   !function(mpld3){\n",
       "       \n",
       "       mpld3.draw_figure(\"fig_el20049139642977269464495427297\", {\"data\": {\"data01\": [[-0.1564344650402308, -0.9876883405951378], [-0.4539904997395467, -0.8910065241883679], [-0.7071067811865475, -0.7071067811865476], [-0.8910065241883678, -0.45399049973954686], [-0.9876883405951377, -0.15643446504023098], [-0.9876883405951378, 0.15643446504023073], [-0.8910065241883679, 0.4539904997395467], [-0.7071067811865477, 0.7071067811865475], [-0.4539904997395469, 0.8910065241883678], [-0.15643446504023104, 0.9876883405951377]]}, \"width\": 240.0, \"axes\": [{\"axesbgalpha\": null, \"lines\": [], \"xlim\": [-1.2000000000000002, 0.0], \"xdomain\": [-1.2000000000000002, 0.0], \"zoomable\": true, \"texts\": [{\"fontsize\": 12.0, \"zorder\": 3, \"position\": [0.5, 1.0224014336917562], \"text\": \"poles\", \"id\": \"el20049139642977398344\", \"h_anchor\": \"middle\", \"color\": \"#000000\", \"v_baseline\": \"auto\", \"alpha\": 1, \"coordinates\": \"axes\", \"rotation\": -0.0}], \"id\": \"el20049139642977269184\", \"collections\": [{\"facecolors\": [\"#0000FF\"], \"id\": \"el20049139642974197520\", \"zorder\": 1, \"offsetcoordinates\": \"data\", \"xindex\": 0, \"edgewidths\": [1.0], \"pathcoordinates\": \"display\", \"yindex\": 1, \"offsets\": \"data01\", \"edgecolors\": [\"#000000\"], \"alphas\": [null], \"pathtransforms\": [[4.969039949999533, 0.0, 0.0, 4.969039949999533, 0.0, 0.0]], \"paths\": [[[[0.0, -0.5], [0.13260155, -0.5], [0.25978993539242673, -0.44731684579412084], [0.3535533905932738, -0.3535533905932738], [0.44731684579412084, -0.25978993539242673], [0.5, -0.13260155], [0.5, 0.0], [0.5, 0.13260155], [0.44731684579412084, 0.25978993539242673], [0.3535533905932738, 0.3535533905932738], [0.25978993539242673, 0.44731684579412084], [0.13260155, 0.5], [0.0, 0.5], [-0.13260155, 0.5], [-0.25978993539242673, 0.44731684579412084], [-0.3535533905932738, 0.3535533905932738], [-0.44731684579412084, 0.25978993539242673], [-0.5, 0.13260155], [-0.5, 0.0], [-0.5, -0.13260155], [-0.44731684579412084, -0.25978993539242673], [-0.3535533905932738, -0.3535533905932738], [-0.25978993539242673, -0.44731684579412084], [-0.13260155, -0.5], [0.0, -0.5]], [\"M\", \"C\", \"C\", \"C\", \"C\", \"C\", \"C\", \"C\", \"C\", \"Z\"]]]}], \"images\": [], \"ylim\": [-1.5, 1.5], \"sharey\": [], \"yscale\": \"linear\", \"markers\": [], \"axesbg\": \"none\", \"sharex\": [], \"xscale\": \"linear\", \"axes\": [{\"tickformat\": null, \"scale\": \"linear\", \"position\": \"bottom\", \"grid\": {\"gridOn\": false}, \"fontsize\": 10.0, \"nticks\": 9, \"tickvalues\": null}, {\"tickformat\": null, \"scale\": \"linear\", \"position\": \"left\", \"grid\": {\"gridOn\": false}, \"fontsize\": 10.0, \"nticks\": 7, \"tickvalues\": null}], \"ydomain\": [-1.5, 1.5], \"paths\": [], \"bbox\": [0.125, 0.125, 0.775, 0.775]}], \"plugins\": [{\"type\": \"reset\"}, {\"type\": \"zoom\", \"button\": true, \"enabled\": false}, {\"type\": \"boxzoom\", \"button\": true, \"enabled\": false}], \"height\": 320.0, \"id\": \"el20049139642977269464\"});\n",
       "   }(mpld3);\n",
       "}else if(typeof define === \"function\" && define.amd){\n",
       "   // require.js is available: use it to load d3/mpld3\n",
       "   require.config({paths: {d3: \"https://mpld3.github.io/js/d3.v3.min\"}});\n",
       "   require([\"d3\"], function(d3){\n",
       "      window.d3 = d3;\n",
       "      mpld3_load_lib(\"https://mpld3.github.io/js/mpld3.v0.2.js\", function(){\n",
       "         \n",
       "         mpld3.draw_figure(\"fig_el20049139642977269464495427297\", {\"data\": {\"data01\": [[-0.1564344650402308, -0.9876883405951378], [-0.4539904997395467, -0.8910065241883679], [-0.7071067811865475, -0.7071067811865476], [-0.8910065241883678, -0.45399049973954686], [-0.9876883405951377, -0.15643446504023098], [-0.9876883405951378, 0.15643446504023073], [-0.8910065241883679, 0.4539904997395467], [-0.7071067811865477, 0.7071067811865475], [-0.4539904997395469, 0.8910065241883678], [-0.15643446504023104, 0.9876883405951377]]}, \"width\": 240.0, \"axes\": [{\"axesbgalpha\": null, \"lines\": [], \"xlim\": [-1.2000000000000002, 0.0], \"xdomain\": [-1.2000000000000002, 0.0], \"zoomable\": true, \"texts\": [{\"fontsize\": 12.0, \"zorder\": 3, \"position\": [0.5, 1.0224014336917562], \"text\": \"poles\", \"id\": \"el20049139642977398344\", \"h_anchor\": \"middle\", \"color\": \"#000000\", \"v_baseline\": \"auto\", \"alpha\": 1, \"coordinates\": \"axes\", \"rotation\": -0.0}], \"id\": \"el20049139642977269184\", \"collections\": [{\"facecolors\": [\"#0000FF\"], \"id\": \"el20049139642974197520\", \"zorder\": 1, \"offsetcoordinates\": \"data\", \"xindex\": 0, \"edgewidths\": [1.0], \"pathcoordinates\": \"display\", \"yindex\": 1, \"offsets\": \"data01\", \"edgecolors\": [\"#000000\"], \"alphas\": [null], \"pathtransforms\": [[4.969039949999533, 0.0, 0.0, 4.969039949999533, 0.0, 0.0]], \"paths\": [[[[0.0, -0.5], [0.13260155, -0.5], [0.25978993539242673, -0.44731684579412084], [0.3535533905932738, -0.3535533905932738], [0.44731684579412084, -0.25978993539242673], [0.5, -0.13260155], [0.5, 0.0], [0.5, 0.13260155], [0.44731684579412084, 0.25978993539242673], [0.3535533905932738, 0.3535533905932738], [0.25978993539242673, 0.44731684579412084], [0.13260155, 0.5], [0.0, 0.5], [-0.13260155, 0.5], [-0.25978993539242673, 0.44731684579412084], [-0.3535533905932738, 0.3535533905932738], [-0.44731684579412084, 0.25978993539242673], [-0.5, 0.13260155], [-0.5, 0.0], [-0.5, -0.13260155], [-0.44731684579412084, -0.25978993539242673], [-0.3535533905932738, -0.3535533905932738], [-0.25978993539242673, -0.44731684579412084], [-0.13260155, -0.5], [0.0, -0.5]], [\"M\", \"C\", \"C\", \"C\", \"C\", \"C\", \"C\", \"C\", \"C\", \"Z\"]]]}], \"images\": [], \"ylim\": [-1.5, 1.5], \"sharey\": [], \"yscale\": \"linear\", \"markers\": [], \"axesbg\": \"none\", \"sharex\": [], \"xscale\": \"linear\", \"axes\": [{\"tickformat\": null, \"scale\": \"linear\", \"position\": \"bottom\", \"grid\": {\"gridOn\": false}, \"fontsize\": 10.0, \"nticks\": 9, \"tickvalues\": null}, {\"tickformat\": null, \"scale\": \"linear\", \"position\": \"left\", \"grid\": {\"gridOn\": false}, \"fontsize\": 10.0, \"nticks\": 7, \"tickvalues\": null}], \"ydomain\": [-1.5, 1.5], \"paths\": [], \"bbox\": [0.125, 0.125, 0.775, 0.775]}], \"plugins\": [{\"type\": \"reset\"}, {\"type\": \"zoom\", \"button\": true, \"enabled\": false}, {\"type\": \"boxzoom\", \"button\": true, \"enabled\": false}], \"height\": 320.0, \"id\": \"el20049139642977269464\"});\n",
       "      });\n",
       "    });\n",
       "}else{\n",
       "    // require.js not available: dynamically load d3 & mpld3\n",
       "    mpld3_load_lib(\"https://mpld3.github.io/js/d3.v3.min.js\", function(){\n",
       "         mpld3_load_lib(\"https://mpld3.github.io/js/mpld3.v0.2.js\", function(){\n",
       "                 \n",
       "                 mpld3.draw_figure(\"fig_el20049139642977269464495427297\", {\"data\": {\"data01\": [[-0.1564344650402308, -0.9876883405951378], [-0.4539904997395467, -0.8910065241883679], [-0.7071067811865475, -0.7071067811865476], [-0.8910065241883678, -0.45399049973954686], [-0.9876883405951377, -0.15643446504023098], [-0.9876883405951378, 0.15643446504023073], [-0.8910065241883679, 0.4539904997395467], [-0.7071067811865477, 0.7071067811865475], [-0.4539904997395469, 0.8910065241883678], [-0.15643446504023104, 0.9876883405951377]]}, \"width\": 240.0, \"axes\": [{\"axesbgalpha\": null, \"lines\": [], \"xlim\": [-1.2000000000000002, 0.0], \"xdomain\": [-1.2000000000000002, 0.0], \"zoomable\": true, \"texts\": [{\"fontsize\": 12.0, \"zorder\": 3, \"position\": [0.5, 1.0224014336917562], \"text\": \"poles\", \"id\": \"el20049139642977398344\", \"h_anchor\": \"middle\", \"color\": \"#000000\", \"v_baseline\": \"auto\", \"alpha\": 1, \"coordinates\": \"axes\", \"rotation\": -0.0}], \"id\": \"el20049139642977269184\", \"collections\": [{\"facecolors\": [\"#0000FF\"], \"id\": \"el20049139642974197520\", \"zorder\": 1, \"offsetcoordinates\": \"data\", \"xindex\": 0, \"edgewidths\": [1.0], \"pathcoordinates\": \"display\", \"yindex\": 1, \"offsets\": \"data01\", \"edgecolors\": [\"#000000\"], \"alphas\": [null], \"pathtransforms\": [[4.969039949999533, 0.0, 0.0, 4.969039949999533, 0.0, 0.0]], \"paths\": [[[[0.0, -0.5], [0.13260155, -0.5], [0.25978993539242673, -0.44731684579412084], [0.3535533905932738, -0.3535533905932738], [0.44731684579412084, -0.25978993539242673], [0.5, -0.13260155], [0.5, 0.0], [0.5, 0.13260155], [0.44731684579412084, 0.25978993539242673], [0.3535533905932738, 0.3535533905932738], [0.25978993539242673, 0.44731684579412084], [0.13260155, 0.5], [0.0, 0.5], [-0.13260155, 0.5], [-0.25978993539242673, 0.44731684579412084], [-0.3535533905932738, 0.3535533905932738], [-0.44731684579412084, 0.25978993539242673], [-0.5, 0.13260155], [-0.5, 0.0], [-0.5, -0.13260155], [-0.44731684579412084, -0.25978993539242673], [-0.3535533905932738, -0.3535533905932738], [-0.25978993539242673, -0.44731684579412084], [-0.13260155, -0.5], [0.0, -0.5]], [\"M\", \"C\", \"C\", \"C\", \"C\", \"C\", \"C\", \"C\", \"C\", \"Z\"]]]}], \"images\": [], \"ylim\": [-1.5, 1.5], \"sharey\": [], \"yscale\": \"linear\", \"markers\": [], \"axesbg\": \"none\", \"sharex\": [], \"xscale\": \"linear\", \"axes\": [{\"tickformat\": null, \"scale\": \"linear\", \"position\": \"bottom\", \"grid\": {\"gridOn\": false}, \"fontsize\": 10.0, \"nticks\": 9, \"tickvalues\": null}, {\"tickformat\": null, \"scale\": \"linear\", \"position\": \"left\", \"grid\": {\"gridOn\": false}, \"fontsize\": 10.0, \"nticks\": 7, \"tickvalues\": null}], \"ydomain\": [-1.5, 1.5], \"paths\": [], \"bbox\": [0.125, 0.125, 0.775, 0.775]}], \"plugins\": [{\"type\": \"reset\"}, {\"type\": \"zoom\", \"button\": true, \"enabled\": false}, {\"type\": \"boxzoom\", \"button\": true, \"enabled\": false}], \"height\": 320.0, \"id\": \"el20049139642977269464\"});\n",
       "            })\n",
       "         });\n",
       "}\n",
       "</script>"
      ],
      "text/plain": [
       "<matplotlib.figure.Figure at 0x7f012a0e36d8>"
      ]
     },
     "metadata": {},
     "output_type": "display_data"
    }
   ],
   "source": [
    "fig = plt.figure(figsize=(3, 4))\n",
    "ax = fig.add_subplot(111)\n",
    "ax.scatter(real(pole), imag(pole))\n",
    "plt.title('poles')\n",
    "plt.show()"
   ]
  },
  {
   "cell_type": "markdown",
   "metadata": {},
   "source": [
    "The transfer function looks like:\n",
    "\n",
    "$$\n",
    "H(s) = \\frac{1}{(s - p_1)(s - p_2)...(s - p_N)}\n",
    "$$\n",
    "\n",
    "We can take the bilinear transform by substituting $s = c\\frac{z - 1}{z + 1}$ to get:\n",
    "\n",
    "$$\n",
    "H(z) = \n",
    "$$"
   ]
  },
  {
   "cell_type": "markdown",
   "metadata": {},
   "source": [
    "A general filter of order $N$ has poles at $p_1, ..., p_N$ and zeros at $q_1, ..., q_N$. The transfer function is\n",
    "\n",
    "$$\n",
    "H(s) = \\frac{(s - q_1)...(s - q_N)}{(s - p_1)...(s - p_N)}\n",
    "$$"
   ]
  },
  {
   "cell_type": "markdown",
   "metadata": {},
   "source": [
    "A common way to map this analog-domain transfer function to the digital domain is to take the bilinear transform:\n",
    "\n",
    "$$\n",
    "s = c \\frac{z - 1}{z + 1}\n",
    "$$\n",
    "\n",
    "Note, this conformal mapping takes $\\infty \\to -1$, $0 \\to 1$, and the left-half s-plane to the inside of the unit circle."
   ]
  },
  {
   "cell_type": "markdown",
   "metadata": {},
   "source": [
    "$$\n",
    "H(z) = \\frac{(z - 1 - \\frac{q_1}{c} (z + 1))...(z - 1 - \\frac{q_N}{c} (z + 1))}{(z - 1 - \\frac{p_1}{c} (z + 1))...(z - 1 - \\frac{p_N}{c} (z + 1))}\n",
    "$$"
   ]
  },
  {
   "cell_type": "code",
   "execution_count": null,
   "metadata": {
    "collapsed": true
   },
   "outputs": [],
   "source": []
  }
 ],
 "metadata": {
  "kernelspec": {
   "display_name": "Python 3",
   "language": "python",
   "name": "python3"
  },
  "language_info": {
   "codemirror_mode": {
    "name": "ipython",
    "version": 3
   },
   "file_extension": ".py",
   "mimetype": "text/x-python",
   "name": "python",
   "nbconvert_exporter": "python",
   "pygments_lexer": "ipython3",
   "version": "3.4.3"
  }
 },
 "nbformat": 4,
 "nbformat_minor": 0
}
